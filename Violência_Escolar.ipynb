{
  "nbformat": 4,
  "nbformat_minor": 0,
  "metadata": {
    "colab": {
      "provenance": []
    },
    "kernelspec": {
      "name": "python3",
      "display_name": "Python 3"
    },
    "language_info": {
      "name": "python"
    }
  },
  "cells": [
    {
      "cell_type": "markdown",
      "source": [
        "*texto em itálico*<a href=\"TAIL\"><img src=\"https://i.imgur.com/GRTE0OG.png\" width=\"150\" title=\"Tail Logo\" /></a>\n",
        "\n",
        "# <font color =\"#00b8ff\">Análise de Violência Escolar</font>\n",
        "## <font color =\"#00b8ff\">Trainees - 2022.2</font>"
      ],
      "metadata": {
        "id": "JFB8z8ya0tUW"
      }
    },
    {
      "cell_type": "markdown",
      "source": [
        "## <font color =\"#00b8ff\">1. Introdução</font>\n",
        "\n",
        "Fornecer um contexto do problema, trazer dados sobre violência escolar com armas, esclarecer os objetivos do trabalho, informar de onde pegamos o notebook e sua credibilidade, descrever as colunas do dataset, etc\n",
        "\n",
        "**Equipe:** Marília Brito, Jonas, Gisele, Hermano Neto, João Victor Dantas, Maria Eduarda Bandeira, Raffael Leobino\n",
        "\n",
        " FOTO \n",
        "\n",
        "## Introdução \n",
        "\n",
        "Após a ocorrência de dois massacres em território brasileiro no intervalo de uma semana, o tema em questão recebeu grande destaque. O país alarmou-se diante de ameaças e possíveis novos ataques. Diante dessa situação, levantou-se diversos questionamentos quanto à natureza dessas ocorrências.\n",
        "\n",
        "Segundo um mapeamento da Universidade Estadual de Campinas (Unicamp) sobre casos de ataques em escolas por alunos ou ex-alunos, o primeiro episódio foi registrado em 2002, quando um adolescente de 17 anos disparou contra duas colegas dentro da sala de aula de uma escola particular de Salvador. Desde esse caso, foram contabilizados 22 ataques, 13 deles realizados nos últimos dois anos.\n",
        "\n",
        "A fim de compreender o fenômeno, suas causas e possíveis formas de proteção, a equipe de Trainees resolveu analisar um dataset de violência escolar. Foi escolhida uma base norte-americana, visto que essa totaliza uma maior quantidade de dados, 2069 ocorrências, de 1970 até junho de 2022, e possui mais variáveis para estudo. \n",
        "\n",
        "O dataset foi obtido através do Center for Homeland, Defense\n",
        "and Security (School Shooting Safety Compendium) e todos os casos apresentam link da nóticia/registro, de forma a garantir sua confiabilidade.\n",
        "\n",
        "## Objetivos gerais \n",
        "Extrair informações relevantes sobre a temática\n",
        "de violência nas escolas envolvendo violentadores;\n",
        "\n",
        "## Objetivos específicos\n",
        "* Observar tendência ao longo do tempo;\n",
        "* Identificar perfil do violentador e da vítima;\n",
        "* Extrair possíveis fatores de risco e proteção;\n",
        "* Realizar análise preditiva.\n",
        "\n",
        "### Colunas do dataset:"
      ],
      "metadata": {
        "id": "MzAG-w2g1GOT"
      }
    },
    {
      "cell_type": "code",
      "source": [
        "import pandas as pd\n",
        "import matplotlib.pyplot as plt"
      ],
      "metadata": {
        "id": "WkR0Ljajf3C5"
      },
      "execution_count": 7,
      "outputs": []
    },
    {
      "cell_type": "code",
      "source": [
        "# Importando 4 abas do arquivo de excel\n",
        "\n",
        "df_incid = pd.read_excel(\"https://github.com/mariliabrito/gunviolence/blob/main/SSDB_Raw_Data_2022.xlsx?raw=true\", sheet_name=1)\n",
        "df_shoot = pd.read_excel(\"https://github.com/mariliabrito/gunviolence/blob/main/SSDB_Raw_Data_2022.xlsx?raw=true\", sheet_name=2)\n",
        "df_victm = pd.read_excel(\"https://github.com/mariliabrito/gunviolence/blob/main/SSDB_Raw_Data_2022.xlsx?raw=true\", sheet_name=3)\n",
        "df_weapn = pd.read_excel(\"https://github.com/mariliabrito/gunviolence/blob/main/SSDB_Raw_Data_2022.xlsx?raw=true\", sheet_name=4)"
      ],
      "metadata": {
        "id": "hL6SophSf74n"
      },
      "execution_count": 2,
      "outputs": []
    },
    {
      "cell_type": "markdown",
      "source": [
        "## <font color =\"#00b8ff\">2. Limpeza</font>\n",
        "\n",
        "Realizar limpeza e uniformização do dataset. Também é possível juntar datasets pela coluna incidentid."
      ],
      "metadata": {
        "id": "t5HwnisD1zbC"
      }
    },
    {
      "cell_type": "markdown",
      "source": [
        "## <font color =\"#00b8ff\">3. Análise Descritiva</font>\n",
        "\n",
        "Realizar análise do dataset, mostrar série histórica, trazer visualizações, etc"
      ],
      "metadata": {
        "id": "fLzhT-DS2GdW"
      }
    },
    {
      "cell_type": "markdown",
      "source": [
        "### <font color =\"#00b8ff\">3.1 Série histórica</font>"
      ],
      "metadata": {
        "id": "hNru_NnxuIDl"
      }
    },
    {
      "cell_type": "markdown",
      "source": [
        "### <font color =\"#00b8ff\">3.2 Análise dos Incidentes</font>"
      ],
      "metadata": {
        "id": "MBIeA3TfuTda"
      }
    },
    {
      "cell_type": "code",
      "source": [
        "df_incid.head()"
      ],
      "metadata": {
        "id": "McNh_e23Opac",
        "outputId": "076c2d4b-2c9a-4c5f-af58-71acb4517bb6",
        "colab": {
          "base_uri": "https://localhost:8080/",
          "height": 491
        }
      },
      "execution_count": 3,
      "outputs": [
        {
          "output_type": "execute_result",
          "data": {
            "text/plain": [
              "     Incident_ID                                            Sources  \\\n",
              "0  20220620ILGRC  https://www.cbsnews.com/chicago/news/woman-and...   \n",
              "1  20220613WAMAE  https://www.q13fox.com/news/deputies-arrest-15...   \n",
              "2  20220610ALBYB  https://www.actionnews5.com/2022/06/10/student...   \n",
              "3  20220609ALWAG  https://www.live5news.com/2022/06/09/potential...   \n",
              "4  20220608ARLIL  https://www.kark.com/crime/lrpd-school-bus-hit...   \n",
              "\n",
              "  Number_News Media_Attention  Reliability        Date Quarter  \\\n",
              "0          50        National            4  2022-06-20  Summer   \n",
              "1           5           Local            4  2022-06-13  Summer   \n",
              "2           3           Local            4  2022-06-10  Summer   \n",
              "3         100        National            4  2022-06-09  Summer   \n",
              "4           5        National            4  2022-06-08  Summer   \n",
              "\n",
              "                            School         City State  ... Accomplice  \\\n",
              "0     Gresham School of Excellence      Chicago    IL  ...         No   \n",
              "1              Mariner High School      Everett    WA  ...         No   \n",
              "2              Byhalia High School      Byhalia    MS  ...        NaN   \n",
              "3    Walnut Park Elementary School      Gadsden    AL  ...        NaN   \n",
              "4  Little Rock School District Bus  Little Rock    AR  ...        NaN   \n",
              "\n",
              "  Hostages Barricade Officer_Involved Bullied Domestic_Violence Gang_Related  \\\n",
              "0       No        No               No      No                No          NaN   \n",
              "1       No        No               No      No                No          NaN   \n",
              "2       No        No               No      No                No          NaN   \n",
              "3      NaN       NaN              NaN     NaN               NaN          NaN   \n",
              "4       No        No               No      No                No          NaN   \n",
              "\n",
              "  Preplanned Shots_Fired Active_Shooter_FBI  \n",
              "0         No         100                 No  \n",
              "1         No          99                 No  \n",
              "2         No           1                 No  \n",
              "3        NaN         NaN                 No  \n",
              "4         No          99                 No  \n",
              "\n",
              "[5 rows x 30 columns]"
            ],
            "text/html": [
              "\n",
              "  <div id=\"df-f98aada7-a92c-4ba3-82e3-5315b43ed72b\">\n",
              "    <div class=\"colab-df-container\">\n",
              "      <div>\n",
              "<style scoped>\n",
              "    .dataframe tbody tr th:only-of-type {\n",
              "        vertical-align: middle;\n",
              "    }\n",
              "\n",
              "    .dataframe tbody tr th {\n",
              "        vertical-align: top;\n",
              "    }\n",
              "\n",
              "    .dataframe thead th {\n",
              "        text-align: right;\n",
              "    }\n",
              "</style>\n",
              "<table border=\"1\" class=\"dataframe\">\n",
              "  <thead>\n",
              "    <tr style=\"text-align: right;\">\n",
              "      <th></th>\n",
              "      <th>Incident_ID</th>\n",
              "      <th>Sources</th>\n",
              "      <th>Number_News</th>\n",
              "      <th>Media_Attention</th>\n",
              "      <th>Reliability</th>\n",
              "      <th>Date</th>\n",
              "      <th>Quarter</th>\n",
              "      <th>School</th>\n",
              "      <th>City</th>\n",
              "      <th>State</th>\n",
              "      <th>...</th>\n",
              "      <th>Accomplice</th>\n",
              "      <th>Hostages</th>\n",
              "      <th>Barricade</th>\n",
              "      <th>Officer_Involved</th>\n",
              "      <th>Bullied</th>\n",
              "      <th>Domestic_Violence</th>\n",
              "      <th>Gang_Related</th>\n",
              "      <th>Preplanned</th>\n",
              "      <th>Shots_Fired</th>\n",
              "      <th>Active_Shooter_FBI</th>\n",
              "    </tr>\n",
              "  </thead>\n",
              "  <tbody>\n",
              "    <tr>\n",
              "      <th>0</th>\n",
              "      <td>20220620ILGRC</td>\n",
              "      <td>https://www.cbsnews.com/chicago/news/woman-and...</td>\n",
              "      <td>50</td>\n",
              "      <td>National</td>\n",
              "      <td>4</td>\n",
              "      <td>2022-06-20</td>\n",
              "      <td>Summer</td>\n",
              "      <td>Gresham School of Excellence</td>\n",
              "      <td>Chicago</td>\n",
              "      <td>IL</td>\n",
              "      <td>...</td>\n",
              "      <td>No</td>\n",
              "      <td>No</td>\n",
              "      <td>No</td>\n",
              "      <td>No</td>\n",
              "      <td>No</td>\n",
              "      <td>No</td>\n",
              "      <td>NaN</td>\n",
              "      <td>No</td>\n",
              "      <td>100</td>\n",
              "      <td>No</td>\n",
              "    </tr>\n",
              "    <tr>\n",
              "      <th>1</th>\n",
              "      <td>20220613WAMAE</td>\n",
              "      <td>https://www.q13fox.com/news/deputies-arrest-15...</td>\n",
              "      <td>5</td>\n",
              "      <td>Local</td>\n",
              "      <td>4</td>\n",
              "      <td>2022-06-13</td>\n",
              "      <td>Summer</td>\n",
              "      <td>Mariner High School</td>\n",
              "      <td>Everett</td>\n",
              "      <td>WA</td>\n",
              "      <td>...</td>\n",
              "      <td>No</td>\n",
              "      <td>No</td>\n",
              "      <td>No</td>\n",
              "      <td>No</td>\n",
              "      <td>No</td>\n",
              "      <td>No</td>\n",
              "      <td>NaN</td>\n",
              "      <td>No</td>\n",
              "      <td>99</td>\n",
              "      <td>No</td>\n",
              "    </tr>\n",
              "    <tr>\n",
              "      <th>2</th>\n",
              "      <td>20220610ALBYB</td>\n",
              "      <td>https://www.actionnews5.com/2022/06/10/student...</td>\n",
              "      <td>3</td>\n",
              "      <td>Local</td>\n",
              "      <td>4</td>\n",
              "      <td>2022-06-10</td>\n",
              "      <td>Summer</td>\n",
              "      <td>Byhalia High School</td>\n",
              "      <td>Byhalia</td>\n",
              "      <td>MS</td>\n",
              "      <td>...</td>\n",
              "      <td>NaN</td>\n",
              "      <td>No</td>\n",
              "      <td>No</td>\n",
              "      <td>No</td>\n",
              "      <td>No</td>\n",
              "      <td>No</td>\n",
              "      <td>NaN</td>\n",
              "      <td>No</td>\n",
              "      <td>1</td>\n",
              "      <td>No</td>\n",
              "    </tr>\n",
              "    <tr>\n",
              "      <th>3</th>\n",
              "      <td>20220609ALWAG</td>\n",
              "      <td>https://www.live5news.com/2022/06/09/potential...</td>\n",
              "      <td>100</td>\n",
              "      <td>National</td>\n",
              "      <td>4</td>\n",
              "      <td>2022-06-09</td>\n",
              "      <td>Summer</td>\n",
              "      <td>Walnut Park Elementary School</td>\n",
              "      <td>Gadsden</td>\n",
              "      <td>AL</td>\n",
              "      <td>...</td>\n",
              "      <td>NaN</td>\n",
              "      <td>NaN</td>\n",
              "      <td>NaN</td>\n",
              "      <td>NaN</td>\n",
              "      <td>NaN</td>\n",
              "      <td>NaN</td>\n",
              "      <td>NaN</td>\n",
              "      <td>NaN</td>\n",
              "      <td>NaN</td>\n",
              "      <td>No</td>\n",
              "    </tr>\n",
              "    <tr>\n",
              "      <th>4</th>\n",
              "      <td>20220608ARLIL</td>\n",
              "      <td>https://www.kark.com/crime/lrpd-school-bus-hit...</td>\n",
              "      <td>5</td>\n",
              "      <td>National</td>\n",
              "      <td>4</td>\n",
              "      <td>2022-06-08</td>\n",
              "      <td>Summer</td>\n",
              "      <td>Little Rock School District Bus</td>\n",
              "      <td>Little Rock</td>\n",
              "      <td>AR</td>\n",
              "      <td>...</td>\n",
              "      <td>NaN</td>\n",
              "      <td>No</td>\n",
              "      <td>No</td>\n",
              "      <td>No</td>\n",
              "      <td>No</td>\n",
              "      <td>No</td>\n",
              "      <td>NaN</td>\n",
              "      <td>No</td>\n",
              "      <td>99</td>\n",
              "      <td>No</td>\n",
              "    </tr>\n",
              "  </tbody>\n",
              "</table>\n",
              "<p>5 rows × 30 columns</p>\n",
              "</div>\n",
              "      <button class=\"colab-df-convert\" onclick=\"convertToInteractive('df-f98aada7-a92c-4ba3-82e3-5315b43ed72b')\"\n",
              "              title=\"Convert this dataframe to an interactive table.\"\n",
              "              style=\"display:none;\">\n",
              "        \n",
              "  <svg xmlns=\"http://www.w3.org/2000/svg\" height=\"24px\"viewBox=\"0 0 24 24\"\n",
              "       width=\"24px\">\n",
              "    <path d=\"M0 0h24v24H0V0z\" fill=\"none\"/>\n",
              "    <path d=\"M18.56 5.44l.94 2.06.94-2.06 2.06-.94-2.06-.94-.94-2.06-.94 2.06-2.06.94zm-11 1L8.5 8.5l.94-2.06 2.06-.94-2.06-.94L8.5 2.5l-.94 2.06-2.06.94zm10 10l.94 2.06.94-2.06 2.06-.94-2.06-.94-.94-2.06-.94 2.06-2.06.94z\"/><path d=\"M17.41 7.96l-1.37-1.37c-.4-.4-.92-.59-1.43-.59-.52 0-1.04.2-1.43.59L10.3 9.45l-7.72 7.72c-.78.78-.78 2.05 0 2.83L4 21.41c.39.39.9.59 1.41.59.51 0 1.02-.2 1.41-.59l7.78-7.78 2.81-2.81c.8-.78.8-2.07 0-2.86zM5.41 20L4 18.59l7.72-7.72 1.47 1.35L5.41 20z\"/>\n",
              "  </svg>\n",
              "      </button>\n",
              "      \n",
              "  <style>\n",
              "    .colab-df-container {\n",
              "      display:flex;\n",
              "      flex-wrap:wrap;\n",
              "      gap: 12px;\n",
              "    }\n",
              "\n",
              "    .colab-df-convert {\n",
              "      background-color: #E8F0FE;\n",
              "      border: none;\n",
              "      border-radius: 50%;\n",
              "      cursor: pointer;\n",
              "      display: none;\n",
              "      fill: #1967D2;\n",
              "      height: 32px;\n",
              "      padding: 0 0 0 0;\n",
              "      width: 32px;\n",
              "    }\n",
              "\n",
              "    .colab-df-convert:hover {\n",
              "      background-color: #E2EBFA;\n",
              "      box-shadow: 0px 1px 2px rgba(60, 64, 67, 0.3), 0px 1px 3px 1px rgba(60, 64, 67, 0.15);\n",
              "      fill: #174EA6;\n",
              "    }\n",
              "\n",
              "    [theme=dark] .colab-df-convert {\n",
              "      background-color: #3B4455;\n",
              "      fill: #D2E3FC;\n",
              "    }\n",
              "\n",
              "    [theme=dark] .colab-df-convert:hover {\n",
              "      background-color: #434B5C;\n",
              "      box-shadow: 0px 1px 3px 1px rgba(0, 0, 0, 0.15);\n",
              "      filter: drop-shadow(0px 1px 2px rgba(0, 0, 0, 0.3));\n",
              "      fill: #FFFFFF;\n",
              "    }\n",
              "  </style>\n",
              "\n",
              "      <script>\n",
              "        const buttonEl =\n",
              "          document.querySelector('#df-f98aada7-a92c-4ba3-82e3-5315b43ed72b button.colab-df-convert');\n",
              "        buttonEl.style.display =\n",
              "          google.colab.kernel.accessAllowed ? 'block' : 'none';\n",
              "\n",
              "        async function convertToInteractive(key) {\n",
              "          const element = document.querySelector('#df-f98aada7-a92c-4ba3-82e3-5315b43ed72b');\n",
              "          const dataTable =\n",
              "            await google.colab.kernel.invokeFunction('convertToInteractive',\n",
              "                                                     [key], {});\n",
              "          if (!dataTable) return;\n",
              "\n",
              "          const docLinkHtml = 'Like what you see? Visit the ' +\n",
              "            '<a target=\"_blank\" href=https://colab.research.google.com/notebooks/data_table.ipynb>data table notebook</a>'\n",
              "            + ' to learn more about interactive tables.';\n",
              "          element.innerHTML = '';\n",
              "          dataTable['output_type'] = 'display_data';\n",
              "          await google.colab.output.renderOutput(dataTable, element);\n",
              "          const docLink = document.createElement('div');\n",
              "          docLink.innerHTML = docLinkHtml;\n",
              "          element.appendChild(docLink);\n",
              "        }\n",
              "      </script>\n",
              "    </div>\n",
              "  </div>\n",
              "  "
            ]
          },
          "metadata": {},
          "execution_count": 3
        }
      ]
    },
    {
      "cell_type": "code",
      "source": [
        "df_incid.info()"
      ],
      "metadata": {
        "id": "3dAQ0GArOray",
        "outputId": "db407192-9cd7-4212-aec1-61b11b37a562",
        "colab": {
          "base_uri": "https://localhost:8080/"
        }
      },
      "execution_count": 4,
      "outputs": [
        {
          "output_type": "stream",
          "name": "stdout",
          "text": [
            "<class 'pandas.core.frame.DataFrame'>\n",
            "RangeIndex: 2069 entries, 0 to 2068\n",
            "Data columns (total 30 columns):\n",
            " #   Column              Non-Null Count  Dtype \n",
            "---  ------              --------------  ----- \n",
            " 0   Incident_ID         2069 non-null   object\n",
            " 1   Sources             2069 non-null   object\n",
            " 2   Number_News         694 non-null    object\n",
            " 3   Media_Attention     734 non-null    object\n",
            " 4   Reliability         2069 non-null   int64 \n",
            " 5   Date                2069 non-null   object\n",
            " 6   Quarter             2058 non-null   object\n",
            " 7   School              2068 non-null   object\n",
            " 8   City                2069 non-null   object\n",
            " 9   State               2069 non-null   object\n",
            " 10  School_Level        2045 non-null   object\n",
            " 11  Location            2066 non-null   object\n",
            " 12  Location_Type       2064 non-null   object\n",
            " 13  During_School       2047 non-null   object\n",
            " 14  Time_Period         1905 non-null   object\n",
            " 15  First_Shot          1594 non-null   object\n",
            " 16  Summary             2069 non-null   object\n",
            " 17  Narrative           2054 non-null   object\n",
            " 18  Situation           1906 non-null   object\n",
            " 19  Targets             1763 non-null   object\n",
            " 20  Accomplice          1768 non-null   object\n",
            " 21  Hostages            2055 non-null   object\n",
            " 22  Barricade           2055 non-null   object\n",
            " 23  Officer_Involved    2061 non-null   object\n",
            " 24  Bullied             1761 non-null   object\n",
            " 25  Domestic_Violence   1913 non-null   object\n",
            " 26  Gang_Related        1645 non-null   object\n",
            " 27  Preplanned          1979 non-null   object\n",
            " 28  Shots_Fired         1409 non-null   object\n",
            " 29  Active_Shooter_FBI  1096 non-null   object\n",
            "dtypes: int64(1), object(29)\n",
            "memory usage: 485.0+ KB\n"
          ]
        }
      ]
    },
    {
      "cell_type": "code",
      "source": [
        "df_incid.describe()"
      ],
      "metadata": {
        "id": "PrxchbbUOw_m",
        "outputId": "5fc1024f-a4e5-4d5f-9fc7-b3a2a82ce82d",
        "colab": {
          "base_uri": "https://localhost:8080/",
          "height": 301
        }
      },
      "execution_count": 5,
      "outputs": [
        {
          "output_type": "execute_result",
          "data": {
            "text/plain": [
              "       Reliability\n",
              "count  2069.000000\n",
              "mean      2.766554\n",
              "std       0.996184\n",
              "min       1.000000\n",
              "25%       2.000000\n",
              "50%       2.000000\n",
              "75%       4.000000\n",
              "max       5.000000"
            ],
            "text/html": [
              "\n",
              "  <div id=\"df-3eccf88c-25c5-4c79-af2a-c2fc2dffffdd\">\n",
              "    <div class=\"colab-df-container\">\n",
              "      <div>\n",
              "<style scoped>\n",
              "    .dataframe tbody tr th:only-of-type {\n",
              "        vertical-align: middle;\n",
              "    }\n",
              "\n",
              "    .dataframe tbody tr th {\n",
              "        vertical-align: top;\n",
              "    }\n",
              "\n",
              "    .dataframe thead th {\n",
              "        text-align: right;\n",
              "    }\n",
              "</style>\n",
              "<table border=\"1\" class=\"dataframe\">\n",
              "  <thead>\n",
              "    <tr style=\"text-align: right;\">\n",
              "      <th></th>\n",
              "      <th>Reliability</th>\n",
              "    </tr>\n",
              "  </thead>\n",
              "  <tbody>\n",
              "    <tr>\n",
              "      <th>count</th>\n",
              "      <td>2069.000000</td>\n",
              "    </tr>\n",
              "    <tr>\n",
              "      <th>mean</th>\n",
              "      <td>2.766554</td>\n",
              "    </tr>\n",
              "    <tr>\n",
              "      <th>std</th>\n",
              "      <td>0.996184</td>\n",
              "    </tr>\n",
              "    <tr>\n",
              "      <th>min</th>\n",
              "      <td>1.000000</td>\n",
              "    </tr>\n",
              "    <tr>\n",
              "      <th>25%</th>\n",
              "      <td>2.000000</td>\n",
              "    </tr>\n",
              "    <tr>\n",
              "      <th>50%</th>\n",
              "      <td>2.000000</td>\n",
              "    </tr>\n",
              "    <tr>\n",
              "      <th>75%</th>\n",
              "      <td>4.000000</td>\n",
              "    </tr>\n",
              "    <tr>\n",
              "      <th>max</th>\n",
              "      <td>5.000000</td>\n",
              "    </tr>\n",
              "  </tbody>\n",
              "</table>\n",
              "</div>\n",
              "      <button class=\"colab-df-convert\" onclick=\"convertToInteractive('df-3eccf88c-25c5-4c79-af2a-c2fc2dffffdd')\"\n",
              "              title=\"Convert this dataframe to an interactive table.\"\n",
              "              style=\"display:none;\">\n",
              "        \n",
              "  <svg xmlns=\"http://www.w3.org/2000/svg\" height=\"24px\"viewBox=\"0 0 24 24\"\n",
              "       width=\"24px\">\n",
              "    <path d=\"M0 0h24v24H0V0z\" fill=\"none\"/>\n",
              "    <path d=\"M18.56 5.44l.94 2.06.94-2.06 2.06-.94-2.06-.94-.94-2.06-.94 2.06-2.06.94zm-11 1L8.5 8.5l.94-2.06 2.06-.94-2.06-.94L8.5 2.5l-.94 2.06-2.06.94zm10 10l.94 2.06.94-2.06 2.06-.94-2.06-.94-.94-2.06-.94 2.06-2.06.94z\"/><path d=\"M17.41 7.96l-1.37-1.37c-.4-.4-.92-.59-1.43-.59-.52 0-1.04.2-1.43.59L10.3 9.45l-7.72 7.72c-.78.78-.78 2.05 0 2.83L4 21.41c.39.39.9.59 1.41.59.51 0 1.02-.2 1.41-.59l7.78-7.78 2.81-2.81c.8-.78.8-2.07 0-2.86zM5.41 20L4 18.59l7.72-7.72 1.47 1.35L5.41 20z\"/>\n",
              "  </svg>\n",
              "      </button>\n",
              "      \n",
              "  <style>\n",
              "    .colab-df-container {\n",
              "      display:flex;\n",
              "      flex-wrap:wrap;\n",
              "      gap: 12px;\n",
              "    }\n",
              "\n",
              "    .colab-df-convert {\n",
              "      background-color: #E8F0FE;\n",
              "      border: none;\n",
              "      border-radius: 50%;\n",
              "      cursor: pointer;\n",
              "      display: none;\n",
              "      fill: #1967D2;\n",
              "      height: 32px;\n",
              "      padding: 0 0 0 0;\n",
              "      width: 32px;\n",
              "    }\n",
              "\n",
              "    .colab-df-convert:hover {\n",
              "      background-color: #E2EBFA;\n",
              "      box-shadow: 0px 1px 2px rgba(60, 64, 67, 0.3), 0px 1px 3px 1px rgba(60, 64, 67, 0.15);\n",
              "      fill: #174EA6;\n",
              "    }\n",
              "\n",
              "    [theme=dark] .colab-df-convert {\n",
              "      background-color: #3B4455;\n",
              "      fill: #D2E3FC;\n",
              "    }\n",
              "\n",
              "    [theme=dark] .colab-df-convert:hover {\n",
              "      background-color: #434B5C;\n",
              "      box-shadow: 0px 1px 3px 1px rgba(0, 0, 0, 0.15);\n",
              "      filter: drop-shadow(0px 1px 2px rgba(0, 0, 0, 0.3));\n",
              "      fill: #FFFFFF;\n",
              "    }\n",
              "  </style>\n",
              "\n",
              "      <script>\n",
              "        const buttonEl =\n",
              "          document.querySelector('#df-3eccf88c-25c5-4c79-af2a-c2fc2dffffdd button.colab-df-convert');\n",
              "        buttonEl.style.display =\n",
              "          google.colab.kernel.accessAllowed ? 'block' : 'none';\n",
              "\n",
              "        async function convertToInteractive(key) {\n",
              "          const element = document.querySelector('#df-3eccf88c-25c5-4c79-af2a-c2fc2dffffdd');\n",
              "          const dataTable =\n",
              "            await google.colab.kernel.invokeFunction('convertToInteractive',\n",
              "                                                     [key], {});\n",
              "          if (!dataTable) return;\n",
              "\n",
              "          const docLinkHtml = 'Like what you see? Visit the ' +\n",
              "            '<a target=\"_blank\" href=https://colab.research.google.com/notebooks/data_table.ipynb>data table notebook</a>'\n",
              "            + ' to learn more about interactive tables.';\n",
              "          element.innerHTML = '';\n",
              "          dataTable['output_type'] = 'display_data';\n",
              "          await google.colab.output.renderOutput(dataTable, element);\n",
              "          const docLink = document.createElement('div');\n",
              "          docLink.innerHTML = docLinkHtml;\n",
              "          element.appendChild(docLink);\n",
              "        }\n",
              "      </script>\n",
              "    </div>\n",
              "  </div>\n",
              "  "
            ]
          },
          "metadata": {},
          "execution_count": 5
        }
      ]
    },
    {
      "cell_type": "code",
      "source": [
        "df_incid['Reliability'].value_counts()\n",
        "confiabilidade = df_incid['Reliability'].value_counts()\n",
        "plt.bar(confiabilidade.index, confiabilidade.values)\n",
        "plt.show()"
      ],
      "metadata": {
        "id": "ac2ECbTGO0oV",
        "outputId": "548ea92f-47b7-446c-924b-72b33a11c1bd",
        "colab": {
          "base_uri": "https://localhost:8080/",
          "height": 430
        }
      },
      "execution_count": 8,
      "outputs": [
        {
          "output_type": "display_data",
          "data": {
            "text/plain": [
              "<Figure size 640x480 with 1 Axes>"
            ],
            "image/png": "[encoded data removed]"
          },
          "metadata": {}
        }
      ]
    },
    {
      "cell_type": "code",
      "source": [
        "escola20 = df_incid['School'].value_counts().head(20)\n",
        "fig = plt.figure(figsize=(17, 5))\n",
        "plt.bar(escola20.index, escola20.values)\n",
        "plt.xticks(rotation=90)\n",
        "plt.show()"
      ],
      "metadata": {
        "id": "BxNRIQ70QAoA",
        "outputId": "c5794810-ef3c-4541-c64a-30ed70c63022",
        "colab": {
          "base_uri": "https://localhost:8080/",
          "height": 668
        }
      },
      "execution_count": 9,
      "outputs": [
        {
          "output_type": "display_data",
          "data": {
            "text/plain": [
              "<Figure size 1700x500 with 1 Axes>"
            ],
            "image/png": "[encoded data removed]"
          },
          "metadata": {}
        }
      ]
    },
    {
      "cell_type": "markdown",
      "source": [
        "### <font color =\"#00b8ff\">3.3 Análise do Atirador</font>"
      ],
      "metadata": {
        "id": "d2oHA-Cpucyt"
      }
    },
    {
      "cell_type": "markdown",
      "source": [
        "### <font color =\"#00b8ff\">3.4 Análise das Vítimas</font>"
      ],
      "metadata": {
        "id": "F6CZcYaFuf9q"
      }
    },
    {
      "cell_type": "markdown",
      "source": [
        "### <font color =\"#00b8ff\">3.5 Análise das Armas</font>"
      ],
      "metadata": {
        "id": "IlzizcbcujXL"
      }
    }
  ]
}