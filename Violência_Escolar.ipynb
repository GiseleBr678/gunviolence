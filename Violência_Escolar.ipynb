{
  "nbformat": 4,
  "nbformat_minor": 0,
  "metadata": {
    "colab": {
      "provenance": [],
      "authorship_tag": "ABX9TyOr/k3/jLlh4sG3zM8m/Z/l",
      "include_colab_link": true
    },
    "kernelspec": {
      "name": "python3",
      "display_name": "Python 3"
    },
    "language_info": {
      "name": "python"
    }
  },
  "cells": [
    {
      "cell_type": "markdown",
      "metadata": {
        "id": "view-in-github",
        "colab_type": "text"
      },
      "source": [
        "<a href=\"https://colab.research.google.com/github/mariliabrito/gunviolence/blob/main/Viol%C3%AAncia_Escolar.ipynb\" target=\"_parent\"><img src=\"https://colab.research.google.com/assets/colab-badge.svg\" alt=\"Open In Colab\"/></a>"
      ]
    },
    {
      "cell_type": "markdown",
      "source": [
        "*texto em itálico*<a href=\"TAIL\"><img src=\"https://i.imgur.com/GRTE0OG.png\" width=\"150\" title=\"Tail Logo\" /></a>\n",
        "\n",
        "# <font color =\"#00b8ff\">Análise de Violência Escolar</font>\n",
        "## <font color =\"#00b8ff\">Trainees - 2022.2</font>"
      ],
      "metadata": {
        "id": "JFB8z8ya0tUW"
      }
    },
    {
      "cell_type": "markdown",
      "source": [
        "## <font color =\"#00b8ff\">1. Introdução</font>\n",
        "\n",
        "Fornecer um contexto do problema, trazer dados sobre violência escolar com armas, esclarecer os objetivos do trabalho, informar de onde pegamos o notebook e sua credibilidade, descrever as colunas do dataset, etc"
      ],
      "metadata": {
        "id": "MzAG-w2g1GOT"
      }
    },
    {
      "cell_type": "code",
      "source": [
        "import pandas as pd"
      ],
      "metadata": {
        "id": "WkR0Ljajf3C5"
      },
      "execution_count": null,
      "outputs": []
    },
    {
      "cell_type": "code",
      "source": [
        "# Importando 4 abas do arquivo\n",
        "\n",
        "df_incid = pd.read_excel(\"https://github.com/mariliabrito/gunviolence/blob/main/Public%20v3.1%20K-12%20School%20Shooting%20Database.xlsx?raw=true\", sheet_name=1)\n",
        "df_shoot = pd.read_excel(\"https://github.com/mariliabrito/gunviolence/blob/main/Public%20v3.1%20K-12%20School%20Shooting%20Database.xlsx?raw=true\", sheet_name=2)\n",
        "df_victm = pd.read_excel(\"https://github.com/mariliabrito/gunviolence/blob/main/Public%20v3.1%20K-12%20School%20Shooting%20Database.xlsx?raw=true\", sheet_name=3)\n",
        "df_weapn = pd.read_excel(\"https://github.com/mariliabrito/gunviolence/blob/main/Public%20v3.1%20K-12%20School%20Shooting%20Database.xlsx?raw=true\", sheet_name=4)"
      ],
      "metadata": {
        "id": "hL6SophSf74n"
      },
      "execution_count": null,
      "outputs": []
    },
    {
      "cell_type": "markdown",
      "source": [
        "## <font color =\"#00b8ff\">2. Limpeza</font>\n",
        "\n",
        "Realizar limpeza e uniformização do dataset. Também é possível juntar datasets pela coluna incidentid."
      ],
      "metadata": {
        "id": "t5HwnisD1zbC"
      }
    },
    {
      "cell_type": "markdown",
      "source": [
        "## <font color =\"#00b8ff\">3. Análise Descritiva</font>\n",
        "\n",
        "Realizar análise do dataset, mostrar série histórica, trazer visualizações, etc"
      ],
      "metadata": {
        "id": "fLzhT-DS2GdW"
      }
    },
    {
      "cell_type": "markdown",
      "source": [
        "### <font color =\"#00b8ff\">3.1 Série histórica</font>"
      ],
      "metadata": {
        "id": "hNru_NnxuIDl"
      }
    },
    {
      "cell_type": "markdown",
      "source": [
        "### <font color =\"#00b8ff\">3.2 Análise dos Incidentes</font>"
      ],
      "metadata": {
        "id": "MBIeA3TfuTda"
      }
    },
    {
      "cell_type": "markdown",
      "source": [
        "### <font color =\"#00b8ff\">3.3 Análise do Atirador</font>"
      ],
      "metadata": {
        "id": "d2oHA-Cpucyt"
      }
    },
    {
      "cell_type": "markdown",
      "source": [
        "### <font color =\"#00b8ff\">3.4 Análise das Vítimas</font>"
      ],
      "metadata": {
        "id": "F6CZcYaFuf9q"
      }
    },
    {
      "cell_type": "markdown",
      "source": [
        "### <font color =\"#00b8ff\">3.5 Análise das Armas</font>"
      ],
      "metadata": {
        "id": "IlzizcbcujXL"
      }
    }
  ]
}